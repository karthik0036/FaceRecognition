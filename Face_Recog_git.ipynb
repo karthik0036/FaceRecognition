{
 "cells": [
  {
   "cell_type": "code",
   "execution_count": 4,
   "metadata": {},
   "outputs": [],
   "source": [
    "import numpy as np\n",
    "import cv2\n",
    "import pickle"
   ]
  },
  {
   "cell_type": "markdown",
   "metadata": {},
   "source": [
    "## Faces "
   ]
  },
  {
   "cell_type": "code",
   "execution_count": null,
   "metadata": {},
   "outputs": [],
   "source": [
    "face_cascade=cv2.CascadeClassifier(r\"C:\\Users\\karthik\\Anaconda3\\Lib\\site-packages\\cv2\\data\\haarcascade_frontalface_default.xml\")\n",
    "eye_cascade = cv2.CascadeClassifier(r'C:\\Users\\karthik\\Anaconda3\\Lib\\site-packages\\cv2\\data\\haarcascade_eye.xml')\n",
    "\n",
    "recognizer=cv2.face.LBPHFaceRecognizer_create()\n",
    "recognizer.read(\"trainner.yml\")\n",
    "\n",
    "label={'person_name':1}\n",
    "with open(\"labels.pickle\", 'rb') as f:\n",
    "    og_labels=pickle.load(f)\n",
    "    labels={v:k for k,v in og_labels.items()}\n",
    "\n",
    "\n",
    "cap = cv2.VideoCapture(0)\n",
    "\n",
    "while(True):\n",
    "    # Capture frame-by-frame\n",
    "    ret, frame = cap.read()\n",
    "    gray = cv2.cvtColor(frame,cv2.COLOR_BGR2GRAY)\n",
    "    faces=face_cascade.detectMultiScale(gray,scaleFactor=1.3,minNeighbors=5)\n",
    "    for face in faces:\n",
    "        (x,y,w,h)=face\n",
    "        roi_gray=gray[y:y+h,x:x+w]#co-ordinates\n",
    "        roi_color=frame[y:y+h,x:x+w]\n",
    "        \n",
    "        id,conf=recognizer.predict(roi_gray)\n",
    "        if conf>=45: #and conf<=85:\n",
    "            print(id_)\n",
    "            print(labels[id_])\n",
    "            font=cv2.FONT_HERSHEY_SIMPLEX\n",
    "            name=labels[id_]\n",
    "            color=(255,255,255)\n",
    "            stroke=2\n",
    "            cv2.putText(frame,name,(x,y),font,1,color,stroke,cv2.LINE_AA)\n",
    "            \n",
    "        img_item=\"7.png\"\n",
    "        cv2.imwrite(img_item,roi_color)\n",
    "        \n",
    "        color=(0,255,0)#BGR\n",
    "        Stroke=5 #thickness\n",
    "        end_cord_x=x+w\n",
    "        end_cord_y=y+h\n",
    "        #cv2.rectangle(frame,(x,y),(x+w,y+h),(0,255,0),thickness=5)\n",
    "        cv2.rectangle(frame,(x,y),(end_cord_x,end_cord_y),color,Stroke)\n",
    "        eyes = eye_cascade.detectMultiScale(roi_gray)\n",
    "        for (ex,ey,ew,eh) in eyes:\n",
    "            cv2.rectangle(roi_color,(ex,ey),(ex+ew,ey+eh),(0,255,0),2)\n",
    "            \n",
    "            \n",
    "    \n",
    "\n",
    "    # Display the resulting frame\n",
    "    cv2.imshow('frame',frame)\n",
    "    if cv2.waitKey(20) & 0xFF == ord('q'):\n",
    "        break\n",
    "\n",
    "# When everything done, release the capture\n",
    "cap.release()\n",
    "cv2.destroyAllWindows()"
   ]
  },
  {
   "cell_type": "markdown",
   "metadata": {},
   "source": [
    "## Faces train"
   ]
  },
  {
   "cell_type": "code",
   "execution_count": 5,
   "metadata": {},
   "outputs": [],
   "source": [
    "import cv2\n",
    "import os\n",
    "import numpy as np\n",
    "from PIL import Image\n",
    "import pickle"
   ]
  },
  {
   "cell_type": "code",
   "execution_count": null,
   "metadata": {},
   "outputs": [],
   "source": [
    "BASE_DIR = os.path.dirname(os.path.abspath(r\"C:\\Users\\karthik\\Desktop\\GitHub\\open_cv\\OpenCV-Python-Series-master\\src\"))\n",
    "image_dir = os.path.join(BASE_DIR,r\"C:\\Users\\karthik\\Desktop\\GitHub\\open_cv\\OpenCV-Python-Series-master\\src\\images\")\n",
    "\n",
    "face_cascade=cv2.CascadeClassifier(r\"C:\\Users\\karthik\\Anaconda3\\Lib\\site-packages\\cv2\\data\\haarcascade_frontalface_default.xml\")\n",
    "recognizer=cv2.face.LBPHFaceRecognizer_create()\n",
    "\n",
    "current_id = 0\n",
    "label_ids = {}\n",
    "y_labels = []\n",
    "x_train = []\n",
    "\n",
    "for root, dirs, files in os.walk(image_dir):\n",
    "     for file in files:\n",
    "        if file.endswith(\"png\") or file.endswith(\"jpg\"):\n",
    "            path = os.path.join(root, file)\n",
    "            label = os.path.basename(os.path.dirname(path)).replace(\" \", \"-\").lower()\n",
    "            print(label,path)\n",
    "            if not label in label_ids:\n",
    "                label_ids[label] = current_id\n",
    "                current_id += 1\n",
    "            id_ = label_ids[label]\n",
    "            #print(label_ids)\n",
    "            \n",
    "            #y_labels.append(label)# some number\n",
    "            #x_train.append(path)# verify this image, turn into a NUMPY arrray, GRAY\n",
    "            pil_image = Image.open(path).convert(\"L\") # grayscale\n",
    "            size=(550,550)\n",
    "            final_image=pil_image.resize(size, Image.ANTIALIAS)\n",
    "            image_array = np.array(final_image, \"uint8\")\n",
    "            #print(image_array)#converted images into array\n",
    "            faces = face_cascade.detectMultiScale(image_array, scaleFactor=1.5, minNeighbors=5)\n",
    "            \n",
    "            for (x,y,w,h) in faces:\n",
    "                roi = image_array[y:y+h, x:x+w]\n",
    "                x_train.append(roi)\n",
    "                y_labels.append(id_)\n",
    "                \n",
    "#print(y_labels)\n",
    "#print(x_train)\n",
    "\n",
    "with open(\"labels.pickle\", 'wb') as f:\n",
    "    pickle.dump(label_ids, f)\n",
    "\n",
    "recognizer.train(x_train, np.array(y_labels))\n",
    "recognizer.save(\"trainner.yml\")          "
   ]
  }
 ],
 "metadata": {
  "kernelspec": {
   "display_name": "Python 3",
   "language": "python",
   "name": "python3"
  },
  "language_info": {
   "codemirror_mode": {
    "name": "ipython",
    "version": 3
   },
   "file_extension": ".py",
   "mimetype": "text/x-python",
   "name": "python",
   "nbconvert_exporter": "python",
   "pygments_lexer": "ipython3",
   "version": "3.7.1"
  }
 },
 "nbformat": 4,
 "nbformat_minor": 2
}
